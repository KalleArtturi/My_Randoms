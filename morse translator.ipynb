{
 "cells": [
  {
   "cell_type": "code",
   "execution_count": 9,
   "metadata": {},
   "outputs": [],
   "source": [
    "codes = [\".-\",\"-...\",\"-.-.\",\"-..\",\".\",\"..-.\",\"--.\",\"....\",\"..\",\".---\",\"-.-\",\".-..\",\"--\",\"-.\",\"---\",\".--.\",\"--.-\",\".-.\",\"...\",\"-\",\"..-\",\"...-\",\".--\",\"-..-\",\"-.--\",\"--..\"]\n",
    "import string"
   ]
  },
  {
   "cell_type": "code",
   "execution_count": 21,
   "metadata": {},
   "outputs": [],
   "source": [
    "alphabet =  string.ascii_lowercase"
   ]
  },
  {
   "cell_type": "code",
   "execution_count": null,
   "metadata": {},
   "outputs": [],
   "source": []
  },
  {
   "cell_type": "code",
   "execution_count": 26,
   "metadata": {},
   "outputs": [
    {
     "name": "stdout",
     "output_type": "stream",
     "text": [
      ".-\n",
      "0\n",
      "a\n",
      "-...\n",
      "1\n",
      "b\n",
      "-.-.\n",
      "2\n",
      "c\n",
      "-..\n",
      "3\n",
      "d\n",
      ".\n",
      "4\n",
      "e\n",
      "..-.\n",
      "5\n",
      "f\n",
      "--.\n",
      "6\n",
      "g\n",
      "....\n",
      "7\n",
      "h\n",
      "..\n",
      "8\n",
      "i\n",
      ".---\n",
      "9\n",
      "j\n",
      "-.-\n",
      "10\n",
      "k\n",
      ".-..\n",
      "11\n",
      "l\n",
      "--\n",
      "12\n",
      "m\n",
      "-.\n",
      "13\n",
      "n\n",
      "---\n",
      "14\n",
      "o\n",
      ".--.\n",
      "15\n",
      "p\n",
      "--.-\n",
      "16\n",
      "q\n",
      ".-.\n",
      "17\n",
      "r\n",
      "...\n",
      "18\n",
      "s\n",
      "-\n",
      "19\n",
      "t\n",
      "..-\n",
      "20\n",
      "u\n",
      "...-\n",
      "21\n",
      "v\n",
      ".--\n",
      "22\n",
      "w\n",
      "-..-\n",
      "23\n",
      "x\n",
      "-.--\n",
      "24\n",
      "y\n",
      "--..\n",
      "25\n",
      "z\n",
      "{'a': '.-', 'c': '-.-.', 'b': '-...', 'e': '.', 'd': '-..', 'g': '--.', 'f': '..-.', 'i': '..', 'h': '....', 'k': '-.-', 'j': '.---', 'm': '--', 'l': '.-..', 'o': '---', 'n': '-.', 'q': '--.-', 'p': '.--.', 's': '...', 'r': '.-.', 'u': '..-', 't': '-', 'w': '.--', 'v': '...-', 'y': '-.--', 'x': '-..-', 'z': '--..'}\n"
     ]
    }
   ],
   "source": [
    "my_d = {}\n",
    "cntr = 0\n",
    "for code in codes:\n",
    "    print code\n",
    "    print cntr\n",
    "    my_d[alphabet[cntr]] = code\n",
    "    print alphabet[cntr]\n",
    "    cntr = cntr + 1\n",
    "    \n",
    "print my_d"
   ]
  },
  {
   "cell_type": "code",
   "execution_count": 35,
   "metadata": {},
   "outputs": [
    {
     "name": "stdout",
     "output_type": "stream",
     "text": [
      "-.- .- .-.. .-.. .\n"
     ]
    }
   ],
   "source": [
    "for letter_1 in 'kalle':\n",
    "    print my_d[letter_1],\n",
    "    \n"
   ]
  },
  {
   "cell_type": "code",
   "execution_count": 46,
   "metadata": {},
   "outputs": [],
   "source": [
    "def get_morse(a_word):\n",
    "    for letter_1 in a_word :\n",
    "        print my_d[letter_1],"
   ]
  },
  {
   "cell_type": "code",
   "execution_count": 51,
   "metadata": {},
   "outputs": [
    {
     "name": "stdout",
     "output_type": "stream",
     "text": [
      "kalle\n",
      "-.- .- .-.. .-.. .\n"
     ]
    }
   ],
   "source": [
    "get_morse(raw_input())"
   ]
  },
  {
   "cell_type": "code",
   "execution_count": null,
   "metadata": {},
   "outputs": [],
   "source": []
  }
 ],
 "metadata": {
  "kernelspec": {
   "display_name": "Python 2",
   "language": "python",
   "name": "python2"
  },
  "language_info": {
   "codemirror_mode": {
    "name": "ipython",
    "version": 2
   },
   "file_extension": ".py",
   "mimetype": "text/x-python",
   "name": "python",
   "nbconvert_exporter": "python",
   "pygments_lexer": "ipython2",
   "version": "2.7.16"
  }
 },
 "nbformat": 4,
 "nbformat_minor": 2
}
